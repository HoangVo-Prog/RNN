{
 "cells": [
  {
   "cell_type": "code",
   "execution_count": 1,
   "id": "0a252ec0-be73-498b-b05e-dde66a7ce9d1",
   "metadata": {},
   "outputs": [
    {
     "name": "stdout",
     "output_type": "stream",
     "text": [
      "tensor([1.2000, 1.4000, 2.1000, 2.6000, 3.5000])\n",
      "torch.Size([5, 1])\n"
     ]
    }
   ],
   "source": [
    "import torch\n",
    "import torch.nn as nn\n",
    "\n",
    "sequence_length = 5\n",
    "embed_dim = 1\n",
    "data = torch.tensor([1.2, 1.4, 2.1, 2.6, 3.5], \n",
    "                    dtype=torch.float)\n",
    "print(data)\n",
    "\n",
    "data = data.reshape(sequence_length, embed_dim)\n",
    "print(data.shape)"
   ]
  },
  {
   "cell_type": "code",
   "execution_count": 2,
   "id": "5c4e8012-3326-45eb-b92a-40afd55af3f5",
   "metadata": {},
   "outputs": [],
   "source": [
    "hidden_dim = 2\n",
    "rnn = nn.RNN(embed_dim, hidden_dim, batch_first=True)\n",
    "\n",
    "rnn.bias_ih_l0 = nn.Parameter(torch.tensor([-0.5966,  0.0945]).float())\n",
    "rnn.bias_hh_l0 = nn.Parameter(torch.tensor([ 0.6599, -0.2662]).float())\n",
    "rnn.weight_ih_l0 = nn.Parameter(torch.tensor([[ 0.6584],\n",
    "                                              [-0.1671]]).float())\n",
    "rnn.weight_hh_l0 = nn.Parameter(torch.tensor([[ 0.5147, -0.1310],\n",
    "                                              [ 0.6606, -0.1671]]).float())"
   ]
  },
  {
   "cell_type": "code",
   "execution_count": 3,
   "id": "c012091a-7124-4c97-b6ec-6354efa35c04",
   "metadata": {},
   "outputs": [
    {
     "data": {
      "text/plain": [
       "tensor([[-0.4098, -0.1997],\n",
       "        [-0.3154, -0.0753],\n",
       "        [-0.4289, -0.0295],\n",
       "        [-0.3934,  0.0400],\n",
       "        [-0.4099,  0.0493]], grad_fn=<SqueezeBackward1>)"
      ]
     },
     "execution_count": 3,
     "metadata": {},
     "output_type": "execute_result"
    }
   ],
   "source": [
    "rnn = nn.RNN(embed_dim, hidden_dim, num_layers=2, batch_first=True)\n",
    "rnn_output, rnn_hidden = rnn(data)\n",
    "rnn_output"
   ]
  },
  {
   "cell_type": "code",
   "execution_count": 4,
   "id": "abf06a2a-1ad3-453c-8617-59d3f5e1ced7",
   "metadata": {},
   "outputs": [
    {
     "data": {
      "text/plain": [
       "tensor([[ 0.8449,  0.9931],\n",
       "        [-0.4099,  0.0493]], grad_fn=<SqueezeBackward1>)"
      ]
     },
     "execution_count": 4,
     "metadata": {},
     "output_type": "execute_result"
    }
   ],
   "source": [
    "rnn_hidden"
   ]
  }
 ],
 "metadata": {
  "kernelspec": {
   "display_name": "Python 3 (ipykernel)",
   "language": "python",
   "name": "python3"
  },
  "language_info": {
   "codemirror_mode": {
    "name": "ipython",
    "version": 3
   },
   "file_extension": ".py",
   "mimetype": "text/x-python",
   "name": "python",
   "nbconvert_exporter": "python",
   "pygments_lexer": "ipython3",
   "version": "3.11.11"
  }
 },
 "nbformat": 4,
 "nbformat_minor": 5
}
