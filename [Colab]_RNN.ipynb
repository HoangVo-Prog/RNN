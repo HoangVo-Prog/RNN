{
 "cells": [
  {
   "cell_type": "markdown",
   "metadata": {
    "id": "3KXOI_6AQiRo"
   },
   "source": [
    "#**AI VIET NAM**\n",
    "#**RNN**"
   ]
  },
  {
   "cell_type": "markdown",
   "metadata": {
    "id": "4Hvpv9svQnPH"
   },
   "source": [
    "#**RNN**"
   ]
  },
  {
   "cell_type": "code",
   "execution_count": 1,
   "metadata": {
    "colab": {
     "base_uri": "https://localhost:8080/"
    },
    "id": "3WKFQGtsOjNe",
    "outputId": "c67172f7-5162-4576-ec2b-96048f93de45"
   },
   "outputs": [
    {
     "data": {
      "text/plain": [
       "'2.1.0+cpu'"
      ]
     },
     "execution_count": 1,
     "metadata": {},
     "output_type": "execute_result"
    }
   ],
   "source": [
    "import torch\n",
    "import torch.nn as nn\n",
    "\n",
    "torch.manual_seed(42)\n",
    "torch.__version__"
   ]
  },
  {
   "cell_type": "code",
   "execution_count": 4,
   "metadata": {
    "colab": {
     "base_uri": "https://localhost:8080/"
    },
    "id": "4JLj2COs27u9",
    "outputId": "ab5c1408-c171-4cd3-83b5-eafe38d2a5f1"
   },
   "outputs": [
    {
     "data": {
      "text/plain": [
       "(tensor([[[1., 0., 1.],\n",
       "          [0., 1., 1.],\n",
       "          [1., 1., 1.]]]),\n",
       " torch.Size([1, 3, 3]))"
      ]
     },
     "execution_count": 4,
     "metadata": {},
     "output_type": "execute_result"
    }
   ],
   "source": [
    "batch_size = 1\n",
    "seq_length = 3\n",
    "embedding_dim = 3\n",
    "\n",
    "input = torch.randint(\n",
    "    high=2,\n",
    "    size=(batch_size, seq_length, embedding_dim),\n",
    "    dtype=torch.float32\n",
    ")\n",
    "\n",
    "input, (input.shape) # size = 3D, (batch_size * seq_length * embedding_dim)"
   ]
  },
  {
   "cell_type": "code",
   "execution_count": 6,
   "metadata": {
    "id": "ZFye20Eis8TP"
   },
   "outputs": [
    {
     "name": "stdout",
     "output_type": "stream",
     "text": [
      "\n"
     ]
    }
   ],
   "source": [
    "embedding_dim = 3\n",
    "hidden_size = 2\n",
    "activation = 'relu'\n",
    "\n",
    "rnn_layer = nn.RNN(\n",
    "    input_size=embedding_dim,\n",
    "    hidden_size=hidden_size,\n",
    "    nonlinearity=activation,\n",
    "    batch_first=True\n",
    ")\n",
    "\n",
    "# text -> tokenize -> vetorize -> embedding -> RNN\n",
    "\"\"\"\n",
    "RNN layer: \n",
    "    - input_size: Size of embedding dimension\n",
    "    - hidden_size: Number of elements (neurons) != layers\n",
    "    - nonlinearity: Determine the actication function\n",
    "    - batch_size: This indicates whether the input and output tensors should have the batch size as the first dimension or not\n",
    "\"\"\"\n",
    "print()"
   ]
  },
  {
   "cell_type": "code",
   "execution_count": 39,
   "metadata": {},
   "outputs": [],
   "source": [
    "# help(nn.RNN)"
   ]
  },
  {
   "cell_type": "code",
   "execution_count": 8,
   "metadata": {},
   "outputs": [
    {
     "data": {
      "text/plain": [
       "[[Parameter containing:\n",
       "  tensor([[-0.1918,  0.2976,  0.6313],\n",
       "          [ 0.4087, -0.3091,  0.4082]], requires_grad=True),\n",
       "  Parameter containing:\n",
       "  tensor([[ 0.1265,  0.3591],\n",
       "          [-0.4310, -0.7000]], requires_grad=True),\n",
       "  Parameter containing:\n",
       "  tensor([-0.2732, -0.5424], requires_grad=True),\n",
       "  Parameter containing:\n",
       "  tensor([0.5802, 0.2037], requires_grad=True)]]"
      ]
     },
     "execution_count": 8,
     "metadata": {},
     "output_type": "execute_result"
    }
   ],
   "source": [
    "rnn_layer.all_weights"
   ]
  },
  {
   "cell_type": "code",
   "execution_count": 27,
   "metadata": {
    "id": "dzs-vezovJKl"
   },
   "outputs": [],
   "source": [
    "\"\"\"\n",
    "Initalize parameters\n",
    "\"\"\"\n",
    "\n",
    "for param in rnn_layer.parameters():\n",
    "    init_kernel_weight = torch.randint(\n",
    "        high=2,\n",
    "        size=(param.data.shape),\n",
    "        dtype=torch.float32\n",
    "    )\n",
    "    param.data = init_kernel_weight"
   ]
  },
  {
   "cell_type": "code",
   "execution_count": 28,
   "metadata": {},
   "outputs": [
    {
     "data": {
      "text/plain": [
       "[[Parameter containing:\n",
       "  tensor([[1., 0., 1.],\n",
       "          [0., 1., 1.]], requires_grad=True),\n",
       "  Parameter containing:\n",
       "  tensor([[1., 0.],\n",
       "          [1., 0.]], requires_grad=True),\n",
       "  Parameter containing:\n",
       "  tensor([1., 0.], requires_grad=True),\n",
       "  Parameter containing:\n",
       "  tensor([1., 0.], requires_grad=True)]]"
      ]
     },
     "execution_count": 28,
     "metadata": {},
     "output_type": "execute_result"
    }
   ],
   "source": [
    "rnn_layer.all_weights"
   ]
  },
  {
   "cell_type": "markdown",
   "metadata": {
    "id": "tM-o2FsZAfAt"
   },
   "source": [
    "**Example 1**"
   ]
  },
  {
   "cell_type": "code",
   "execution_count": 17,
   "metadata": {
    "id": "bKwP_HCSAZd3"
   },
   "outputs": [],
   "source": [
    "output, hn = rnn_layer(input)"
   ]
  },
  {
   "cell_type": "code",
   "execution_count": 18,
   "metadata": {
    "colab": {
     "base_uri": "https://localhost:8080/"
    },
    "id": "lz8_V2rYAb5a",
    "outputId": "7e970fc3-7825-4147-ac0b-245f7fa9a3de"
   },
   "outputs": [
    {
     "data": {
      "text/plain": [
       "tensor([[[2., 2.],\n",
       "         [2., 2.],\n",
       "         [3., 2.]]], grad_fn=<TransposeBackward1>)"
      ]
     },
     "execution_count": 18,
     "metadata": {},
     "output_type": "execute_result"
    }
   ],
   "source": [
    "output"
   ]
  },
  {
   "cell_type": "code",
   "execution_count": 19,
   "metadata": {
    "colab": {
     "base_uri": "https://localhost:8080/"
    },
    "id": "aySIdYJXAc3A",
    "outputId": "86587a26-be6a-4b4d-d1e5-92f77297185e"
   },
   "outputs": [
    {
     "data": {
      "text/plain": [
       "tensor([[[3., 2.]]], grad_fn=<StackBackward0>)"
      ]
     },
     "execution_count": 19,
     "metadata": {},
     "output_type": "execute_result"
    }
   ],
   "source": [
    "hn"
   ]
  },
  {
   "cell_type": "markdown",
   "metadata": {
    "id": "Pa6fpUqVAiow"
   },
   "source": [
    "**Example 2**"
   ]
  },
  {
   "cell_type": "code",
   "execution_count": 20,
   "metadata": {
    "id": "zcQX410T4_Qe"
   },
   "outputs": [],
   "source": [
    "h0 = torch.randint(\n",
    "    high=2,\n",
    "    size=(1, batch_size, hidden_size),\n",
    "    dtype=torch.float32\n",
    ")"
   ]
  },
  {
   "cell_type": "code",
   "execution_count": 21,
   "metadata": {
    "colab": {
     "base_uri": "https://localhost:8080/"
    },
    "id": "s7kGFX4VAngb",
    "outputId": "bb78ad1d-fb8b-4d06-eb5d-65fa637ec638"
   },
   "outputs": [
    {
     "data": {
      "text/plain": [
       "tensor([[[1., 1.]]])"
      ]
     },
     "execution_count": 21,
     "metadata": {},
     "output_type": "execute_result"
    }
   ],
   "source": [
    "h0"
   ]
  },
  {
   "cell_type": "code",
   "execution_count": 22,
   "metadata": {
    "id": "qm0V4Q_GtKn6"
   },
   "outputs": [],
   "source": [
    "output, hn = rnn_layer(input, h0)"
   ]
  },
  {
   "cell_type": "code",
   "execution_count": 23,
   "metadata": {
    "colab": {
     "base_uri": "https://localhost:8080/"
    },
    "id": "pFMDpXwp4DxJ",
    "outputId": "2bf9de19-bac6-450e-893a-5f79a667144b"
   },
   "outputs": [
    {
     "data": {
      "text/plain": [
       "tensor([[[2., 2.],\n",
       "         [2., 2.],\n",
       "         [3., 2.]]], grad_fn=<TransposeBackward1>)"
      ]
     },
     "execution_count": 23,
     "metadata": {},
     "output_type": "execute_result"
    }
   ],
   "source": [
    "output"
   ]
  },
  {
   "cell_type": "code",
   "execution_count": 24,
   "metadata": {
    "colab": {
     "base_uri": "https://localhost:8080/"
    },
    "id": "geoQcbLT4YW2",
    "outputId": "ac2ac910-7b52-4602-cc94-a7cfea803bef"
   },
   "outputs": [
    {
     "data": {
      "text/plain": [
       "tensor([[[3., 2.]]], grad_fn=<StackBackward0>)"
      ]
     },
     "execution_count": 24,
     "metadata": {},
     "output_type": "execute_result"
    }
   ],
   "source": [
    "hn"
   ]
  },
  {
   "cell_type": "markdown",
   "metadata": {
    "id": "st3bvIZxyQiM"
   },
   "source": [
    "**Example 3**"
   ]
  },
  {
   "cell_type": "code",
   "execution_count": 25,
   "metadata": {
    "colab": {
     "base_uri": "https://localhost:8080/"
    },
    "id": "qlZjT-AQyX3V",
    "outputId": "07448abb-a983-4346-d0b1-2166aeca3982"
   },
   "outputs": [
    {
     "data": {
      "text/plain": [
       "{'food': 5, 'dog': 1, '<unk>': 0, 'man': 2, 'bites': 3, 'meat': 6, 'eats': 4}"
      ]
     },
     "execution_count": 25,
     "metadata": {},
     "output_type": "execute_result"
    }
   ],
   "source": [
    "import torch\n",
    "from torchtext.data.utils import get_tokenizer\n",
    "from torchtext.vocab import build_vocab_from_iterator\n",
    "\n",
    "data = [\"dog bites man\", \"man bites dog\", \"dog eats meat\", \"man eats food\"]\n",
    "\n",
    "# Define the max vocabulary size\n",
    "vocab_size = 7\n",
    "\n",
    "# Define tokenizer function\n",
    "tokenizer = get_tokenizer('basic_english')\n",
    "\n",
    "# Create a function to yield list of tokens\n",
    "def yield_tokens(examples):\n",
    "    for text in examples:\n",
    "        yield tokenizer(text)\n",
    "\n",
    "# Create vocabulary\n",
    "vocab = build_vocab_from_iterator(\n",
    "    yield_tokens(data),\n",
    "    max_tokens=vocab_size,\n",
    "    specials=[\"<unk>\"]\n",
    ")\n",
    "vocab.set_default_index(vocab[\"<unk>\"])\n",
    "\n",
    "vocab.get_stoi()"
   ]
  },
  {
   "cell_type": "code",
   "execution_count": 26,
   "metadata": {
    "colab": {
     "base_uri": "https://localhost:8080/"
    },
    "id": "ZeLcHyonya5z",
    "outputId": "2cbe48a1-8206-4fe7-fad4-6290fe7c2817"
   },
   "outputs": [
    {
     "data": {
      "text/plain": [
       "tensor([1, 3, 2])"
      ]
     },
     "execution_count": 26,
     "metadata": {},
     "output_type": "execute_result"
    }
   ],
   "source": [
    "input = torch.tensor(vocab(tokenizer(\"dog bites man\")))\n",
    "input"
   ]
  },
  {
   "cell_type": "code",
   "execution_count": 29,
   "metadata": {
    "id": "PfzvcSpBycsZ"
   },
   "outputs": [],
   "source": [
    "input = input.unsqueeze(0)"
   ]
  },
  {
   "cell_type": "code",
   "execution_count": 30,
   "metadata": {
    "id": "eP68_Z6-yem7"
   },
   "outputs": [],
   "source": [
    "from torch import nn\n",
    "\n",
    "embedding = nn.Embedding(\n",
    "    num_embeddings=vocab_size,\n",
    "    embedding_dim=10\n",
    ")"
   ]
  },
  {
   "cell_type": "code",
   "execution_count": 31,
   "metadata": {
    "colab": {
     "base_uri": "https://localhost:8080/"
    },
    "id": "85WQ7VNgyg3U",
    "outputId": "245fd44c-692f-41fa-9726-2300b821e5b9"
   },
   "outputs": [
    {
     "data": {
      "text/plain": [
       "Parameter containing:\n",
       "tensor([[ 5.2462e-01,  1.1412e+00,  5.1644e-02,  7.2811e-01, -7.1064e-01,\n",
       "         -6.0207e-01,  9.6045e-01,  4.0481e-01, -8.2777e-01,  1.3347e+00],\n",
       "        [ 4.8354e-01, -1.9756e-01,  1.2683e+00,  1.2243e+00,  9.8117e-02,\n",
       "          1.7423e+00,  5.8325e-01,  1.0669e+00, -4.5015e-01, -6.7875e-01],\n",
       "        [ 5.7432e-01,  1.8775e-01, -3.5762e-01, -3.1651e-01,  1.2732e+00,\n",
       "         -1.3109e-03, -3.0360e-01, -9.8644e-01,  1.2330e-01,  3.4987e-01],\n",
       "        [ 6.1728e-01, -1.6933e-01,  9.1152e-02, -3.8907e-01,  5.2792e-01,\n",
       "          1.0311e+00, -7.0477e-01,  1.0131e+00, -3.3082e-01,  5.1769e-01],\n",
       "        [ 3.3989e-01,  7.1997e-01,  4.1141e-01, -5.7332e-01,  5.0686e-01,\n",
       "         -4.7521e-01, -4.9203e-01,  2.7037e-01,  1.6354e+00,  6.5474e-01],\n",
       "        [ 5.7600e-01, -3.6091e-01, -6.0590e-02,  7.3255e-02,  4.9756e-01,\n",
       "         -4.2572e-01, -1.3371e+00, -1.9334e-01,  6.5264e-01, -1.9006e+00],\n",
       "        [ 2.2858e-01,  2.4859e-02,  1.9473e-01, -1.6535e+00,  6.8142e-01,\n",
       "          1.4611e+00, -3.0975e-01, -1.6022e+00,  1.3529e+00,  1.2888e+00]],\n",
       "       requires_grad=True)"
      ]
     },
     "execution_count": 31,
     "metadata": {},
     "output_type": "execute_result"
    }
   ],
   "source": [
    "embedding.weight"
   ]
  },
  {
   "cell_type": "code",
   "execution_count": 32,
   "metadata": {
    "id": "uhcrFI_ryi_8"
   },
   "outputs": [],
   "source": [
    "embedded = embedding(input)"
   ]
  },
  {
   "cell_type": "code",
   "execution_count": 33,
   "metadata": {
    "id": "SlhzUhMGyly_"
   },
   "outputs": [],
   "source": [
    "embedding_dim = 10\n",
    "hidden_size = 5\n",
    "activation = 'relu'\n",
    "\n",
    "rnn_layer = nn.RNN(\n",
    "    input_size=embedding_dim,\n",
    "    hidden_size=hidden_size,\n",
    "    nonlinearity=activation,\n",
    "    batch_first=True\n",
    ")"
   ]
  },
  {
   "cell_type": "code",
   "execution_count": 34,
   "metadata": {
    "id": "N6fSzdPdyn_X"
   },
   "outputs": [],
   "source": [
    "output, hn = rnn_layer(embedded)"
   ]
  },
  {
   "cell_type": "markdown",
   "metadata": {
    "id": "Apje_0G_6qqY"
   },
   "source": [
    "#**Text Classification using RNN**"
   ]
  },
  {
   "cell_type": "markdown",
   "metadata": {
    "id": "ira_hi4X6vfH"
   },
   "source": [
    "###**Load Dataset**"
   ]
  },
  {
   "cell_type": "code",
   "execution_count": 42,
   "metadata": {
    "colab": {
     "base_uri": "https://localhost:8080/"
    },
    "id": "fpJHxhck6t25",
    "outputId": "c46a0fe8-1edd-488e-b5e4-55f1b3fd3f1c"
   },
   "outputs": [
    {
     "name": "stderr",
     "output_type": "stream",
     "text": [
      "Cloning into 'ntc-scv'...\n"
     ]
    }
   ],
   "source": [
    "!git clone https://github.com/congnghia0609/ntc-scv.git"
   ]
  },
  {
   "cell_type": "code",
   "execution_count": 43,
   "metadata": {
    "colab": {
     "base_uri": "https://localhost:8080/"
    },
    "id": "ZSsq-Riy61nG",
    "outputId": "3bdd521f-34ac-4159-d187-b593e5695fad"
   },
   "outputs": [
    {
     "name": "stderr",
     "output_type": "stream",
     "text": [
      "'unzip' is not recognized as an internal or external command,\n",
      "operable program or batch file.\n",
      "'unzip' is not recognized as an internal or external command,\n",
      "operable program or batch file.\n",
      "'rm' is not recognized as an internal or external command,\n",
      "operable program or batch file.\n"
     ]
    }
   ],
   "source": [
    "!unzip ./ntc-scv/data/data_test.zip -d ./data\n",
    "!unzip ./ntc-scv/data/data_train.zip -d ./data\n",
    "!rm -rf ./ntc-scv"
   ]
  },
  {
   "cell_type": "code",
   "execution_count": 41,
   "metadata": {},
   "outputs": [
    {
     "name": "stderr",
     "output_type": "stream",
     "text": [
      "tar: Error opening archive: Failed to open './ntc-scv/data/data_test.zip'\n",
      "tar: Error opening archive: Failed to open './ntc-scv/data/data_train.zip'\n"
     ]
    }
   ],
   "source": [
    "!tar -xf ./ntc-scv/data/data_test.zip -C ./data\n",
    "!tar -xf ./ntc-scv/data/data_train.zip -C ./data"
   ]
  },
  {
   "cell_type": "code",
   "execution_count": null,
   "metadata": {
    "id": "LmoAOgCK6527"
   },
   "outputs": [],
   "source": [
    "import os\n",
    "import pandas as pd\n",
    "\n",
    "def load_data_from_path(folder_path):\n",
    "    examples = []\n",
    "    for label in os.listdir(folder_path):\n",
    "        full_path = os.path.join(folder_path, label)\n",
    "        for file_name in os.listdir(full_path):\n",
    "            file_path = os.path.join(full_path, file_name)\n",
    "            with open(file_path, \"r\", encoding=\"utf-8\") as f:\n",
    "                lines = f.readlines()\n",
    "            sentence = \" \".join(lines)\n",
    "            if label == \"neg\":\n",
    "                label = 0\n",
    "            if label == \"pos\":\n",
    "                label = 1\n",
    "            data = {\n",
    "                'sentence': sentence,\n",
    "                'label': label\n",
    "            }\n",
    "            examples.append(data)\n",
    "    return pd.DataFrame(examples)"
   ]
  },
  {
   "cell_type": "code",
   "execution_count": null,
   "metadata": {
    "id": "suf-6Nbw67-S"
   },
   "outputs": [],
   "source": [
    "folder_paths = {\n",
    "    'train': './data/data_train/train',\n",
    "    'valid': './data/data_train/test',\n",
    "    'test': './data/data_test/test'\n",
    "}\n",
    "\n",
    "train_df = load_data_from_path(folder_paths['train'])\n",
    "valid_df = load_data_from_path(folder_paths['valid'])\n",
    "test_df = load_data_from_path(folder_paths['test'])"
   ]
  },
  {
   "cell_type": "markdown",
   "metadata": {
    "id": "1OZjQuvm68uz"
   },
   "source": [
    "###**Preprocessing**"
   ]
  },
  {
   "cell_type": "markdown",
   "metadata": {
    "id": "lKCjFT3C7BzS"
   },
   "source": [
    "**Language Detection**"
   ]
  },
  {
   "cell_type": "code",
   "execution_count": null,
   "metadata": {
    "colab": {
     "base_uri": "https://localhost:8080/"
    },
    "id": "T-zGlqZ96-0g",
    "outputId": "f7be76c9-4fef-47eb-c703-8170137162bf"
   },
   "outputs": [
    {
     "name": "stdout",
     "output_type": "stream",
     "text": [
      "Collecting langid\n",
      "  Downloading langid-1.1.6.tar.gz (1.9 MB)\n",
      "\u001b[?25l     \u001b[90m━━━━━━━━━━━━━━━━━━━━━━━━━━━━━━━━━━━━━━━━\u001b[0m \u001b[32m0.0/1.9 MB\u001b[0m \u001b[31m?\u001b[0m eta \u001b[36m-:--:--\u001b[0m\r",
      "\u001b[2K     \u001b[91m━━━━\u001b[0m\u001b[91m╸\u001b[0m\u001b[90m━━━━━━━━━━━━━━━━━━━━━━━━━━━━━━━━━━━\u001b[0m \u001b[32m0.2/1.9 MB\u001b[0m \u001b[31m6.9 MB/s\u001b[0m eta \u001b[36m0:00:01\u001b[0m\r",
      "\u001b[2K     \u001b[91m━━━━━━━━━━━━━━━━━━━━━━━━━━━━━━━━━━━━\u001b[0m\u001b[91m╸\u001b[0m\u001b[90m━━━\u001b[0m \u001b[32m1.8/1.9 MB\u001b[0m \u001b[31m25.2 MB/s\u001b[0m eta \u001b[36m0:00:01\u001b[0m\r",
      "\u001b[2K     \u001b[90m━━━━━━━━━━━━━━━━━━━━━━━━━━━━━━━━━━━━━━━━\u001b[0m \u001b[32m1.9/1.9 MB\u001b[0m \u001b[31m20.1 MB/s\u001b[0m eta \u001b[36m0:00:00\u001b[0m\n",
      "\u001b[?25h  Preparing metadata (setup.py) ... \u001b[?25l\u001b[?25hdone\n",
      "Requirement already satisfied: numpy in /usr/local/lib/python3.10/dist-packages (from langid) (1.26.4)\n",
      "Building wheels for collected packages: langid\n",
      "  Building wheel for langid (setup.py) ... \u001b[?25l\u001b[?25hdone\n",
      "  Created wheel for langid: filename=langid-1.1.6-py3-none-any.whl size=1941171 sha256=5d7e77ed1b2d29207cfbdb8d05ad1f6027755490f866b150bfe0b0b69463bab0\n",
      "  Stored in directory: /root/.cache/pip/wheels/23/c8/c6/eed80894918490a175677414d40bd7c851413bbe03d4856c3c\n",
      "Successfully built langid\n",
      "Installing collected packages: langid\n",
      "Successfully installed langid-1.1.6\n"
     ]
    }
   ],
   "source": [
    "!pip install langid"
   ]
  },
  {
   "cell_type": "code",
   "execution_count": null,
   "metadata": {
    "id": "T6OZEHR87EZd"
   },
   "outputs": [],
   "source": [
    "from langid.langid import LanguageIdentifier, model\n",
    "\n",
    "def identify_vn(df):\n",
    "    identifier = LanguageIdentifier.from_modelstring(model, norm_probs=True)\n",
    "    not_vi_idx = set()\n",
    "    THRESHOLD = 0.9\n",
    "    for idx, row in df.iterrows():\n",
    "        score = identifier.classify(row[\"sentence\"])\n",
    "        if score[0] != \"vi\" or (score[0] == \"vi\" and score[1] <= THRESHOLD):\n",
    "            not_vi_idx.add(idx)\n",
    "    vi_df = df[~df.index.isin(not_vi_idx)]\n",
    "    not_vi_df = df[df.index.isin(not_vi_idx)]\n",
    "    return vi_df, not_vi_df"
   ]
  },
  {
   "cell_type": "code",
   "execution_count": null,
   "metadata": {
    "id": "6mLysagp7GAS"
   },
   "outputs": [],
   "source": [
    "train_df_vi, train_df_other = identify_vn(train_df)"
   ]
  },
  {
   "cell_type": "markdown",
   "metadata": {
    "id": "_7-Z74Hz7HRS"
   },
   "source": [
    "**Text Cleaning**"
   ]
  },
  {
   "cell_type": "code",
   "execution_count": null,
   "metadata": {
    "id": "JkdKuuog7JMv"
   },
   "outputs": [],
   "source": [
    "import re\n",
    "import string\n",
    "\n",
    "def preprocess_text(text):\n",
    "    # remove URLs https://www.\n",
    "    url_pattern = re.compile(r'https?://\\s+\\wwww\\.\\s+')\n",
    "    text = url_pattern.sub(r\" \", text)\n",
    "\n",
    "    # remove HTML Tags: <>\n",
    "    html_pattern = re.compile(r'<[^<>]+>')\n",
    "    text = html_pattern.sub(\" \", text)\n",
    "\n",
    "    # remove puncs and digits\n",
    "    replace_chars = list(string.punctuation + string.digits)\n",
    "    for char in replace_chars:\n",
    "        text = text.replace(char, \" \")\n",
    "\n",
    "    # remove emoji\n",
    "    emoji_pattern = re.compile(\"[\"\n",
    "        u\"\\U0001F600-\\U0001F64F\"  # emoticons\n",
    "        u\"\\U0001F300-\\U0001F5FF\"  # symbols & pictographs\n",
    "        u\"\\U0001F680-\\U0001F6FF\"  # transport & map symbols\n",
    "        u\"\\U0001F1E0-\\U0001F1FF\"  # flags (iOS)\n",
    "        u\"\\U0001F1F2-\\U0001F1F4\"  # Macau flag\n",
    "        u\"\\U0001F1E6-\\U0001F1FF\"  # flags\n",
    "        u\"\\U0001F600-\\U0001F64F\"\n",
    "        u\"\\U00002702-\\U000027B0\"\n",
    "        u\"\\U000024C2-\\U0001F251\"\n",
    "        u\"\\U0001f926-\\U0001f937\"\n",
    "        u\"\\U0001F1F2\"\n",
    "        u\"\\U0001F1F4\"\n",
    "        u\"\\U0001F620\"\n",
    "        u\"\\u200d\"\n",
    "        u\"\\u2640-\\u2642\"\n",
    "        \"]+\", flags=re.UNICODE)\n",
    "    text = emoji_pattern.sub(r\" \", text)\n",
    "\n",
    "    # normalize whitespace\n",
    "    text = \" \".join(text.split())\n",
    "\n",
    "    # lowercasing\n",
    "    text = text.lower()\n",
    "    return text"
   ]
  },
  {
   "cell_type": "code",
   "execution_count": null,
   "metadata": {
    "id": "TvWxuTMY7NpJ"
   },
   "outputs": [],
   "source": [
    "train_df_vi['preprocess_sentence'] = [preprocess_text(row['sentence']) for index, row in train_df_vi.iterrows()]\n",
    "valid_df['preprocess_sentence'] = [preprocess_text(row['sentence']) for index, row in valid_df.iterrows()]\n",
    "test_df['preprocess_sentence'] = [preprocess_text(row['sentence']) for index, row in test_df.iterrows()]"
   ]
  },
  {
   "cell_type": "markdown",
   "metadata": {
    "id": "3BkC5N3U7QCN"
   },
   "source": [
    "###**Representation**"
   ]
  },
  {
   "cell_type": "code",
   "execution_count": null,
   "metadata": {
    "id": "Nc_bX28S7WUx"
   },
   "outputs": [],
   "source": [
    "def yield_tokens(sentences, tokenizer):\n",
    "    for sentence in sentences:\n",
    "        yield tokenizer(sentence)"
   ]
  },
  {
   "cell_type": "code",
   "execution_count": null,
   "metadata": {
    "id": "-ubaJjnM7X8G"
   },
   "outputs": [],
   "source": [
    "# word-based tokenizer\n",
    "from torchtext.data.utils import get_tokenizer\n",
    "\n",
    "tokenizer = get_tokenizer(\"basic_english\")"
   ]
  },
  {
   "cell_type": "code",
   "execution_count": null,
   "metadata": {
    "id": "xtS-kwxD7ZjA"
   },
   "outputs": [],
   "source": [
    "# build vocabulary\n",
    "from torchtext.vocab import build_vocab_from_iterator\n",
    "\n",
    "vocab_size = 10000\n",
    "vocabulary = build_vocab_from_iterator(\n",
    "    yield_tokens(train_df_vi['preprocess_sentence'], tokenizer),\n",
    "    max_tokens=vocab_size,\n",
    "    specials=[\"<pad>\", \"<unk>\"]\n",
    ")\n",
    "vocabulary.set_default_index(vocabulary[\"<unk>\"])"
   ]
  },
  {
   "cell_type": "code",
   "execution_count": null,
   "metadata": {
    "id": "DKxFJqz47b3F"
   },
   "outputs": [],
   "source": [
    "from torchtext.data.functional import to_map_style_dataset\n",
    "\n",
    "def prepare_dataset(df):\n",
    "    # create iterator for dataset: (sentence, label)\n",
    "    for index, row in df.iterrows():\n",
    "        sentence = row['preprocess_sentence']\n",
    "        encoded_sentence = vocabulary(tokenizer(sentence))\n",
    "        label = row['label']\n",
    "        yield encoded_sentence, label\n",
    "\n",
    "train_dataset = prepare_dataset(train_df_vi)\n",
    "train_dataset = to_map_style_dataset(train_dataset)\n",
    "\n",
    "valid_dataset = prepare_dataset(valid_df)\n",
    "valid_dataset = to_map_style_dataset(valid_dataset)\n",
    "\n",
    "test_dataset = prepare_dataset(test_df)\n",
    "test_dataset = to_map_style_dataset(test_dataset)"
   ]
  },
  {
   "cell_type": "markdown",
   "metadata": {
    "id": "2pq9RDwI7dxB"
   },
   "source": [
    "###**Dataloader**"
   ]
  },
  {
   "cell_type": "code",
   "execution_count": null,
   "metadata": {
    "id": "mzUTf-t_7hP3"
   },
   "outputs": [],
   "source": [
    "import torch\n",
    "\n",
    "seq_length = 50\n",
    "\n",
    "def collate_batch(batch):\n",
    "    # create inputs, offsets, labels for batch\n",
    "    sentences, labels = list(zip(*batch))\n",
    "    encoded_sentences = [\n",
    "        sentence+([0]* (seq_length-len(sentence))) if len(sentence) < seq_length else sentence[:seq_length]\n",
    "        for sentence in sentences\n",
    "    ]\n",
    "\n",
    "    encoded_sentences = torch.tensor(encoded_sentences, dtype=torch.int64)\n",
    "    labels = torch.tensor(labels)\n",
    "\n",
    "    return encoded_sentences, labels"
   ]
  },
  {
   "cell_type": "code",
   "execution_count": null,
   "metadata": {
    "id": "lRqmmogt7kem"
   },
   "outputs": [],
   "source": [
    "from torch.utils.data import DataLoader\n",
    "\n",
    "batch_size = 128\n",
    "\n",
    "train_dataloader = DataLoader(\n",
    "    train_dataset,\n",
    "    batch_size=batch_size,\n",
    "    shuffle=True,\n",
    "    collate_fn=collate_batch\n",
    ")\n",
    "valid_dataloader = DataLoader(\n",
    "    valid_dataset,\n",
    "    batch_size=batch_size,\n",
    "    shuffle=False,\n",
    "    collate_fn=collate_batch\n",
    ")\n",
    "\n",
    "test_dataloader = DataLoader(\n",
    "    test_dataset,\n",
    "    batch_size=batch_size,\n",
    "    shuffle=False,\n",
    "    collate_fn=collate_batch\n",
    ")"
   ]
  },
  {
   "cell_type": "code",
   "execution_count": null,
   "metadata": {
    "colab": {
     "base_uri": "https://localhost:8080/"
    },
    "id": "U-Jpg1Ui7mcd",
    "outputId": "06f39515-d564-4a69-955b-665de1cffef7"
   },
   "outputs": [
    {
     "data": {
      "text/plain": [
       "(tensor([[   7,  142, 1175,  ...,    2,   10,   26],\n",
       "         [   3,   43,    5,  ...,    9,  119,    3],\n",
       "         [   7,  421,  586,  ...,    0,    0,    0],\n",
       "         ...,\n",
       "         [ 165,   44,   11,  ...,    0,    0,    0],\n",
       "         [   6,   60,  302,  ...,   40,  721,   46],\n",
       "         [  23,    2,   30,  ...,  403,    3,  119]]),\n",
       " tensor([0, 1, 1, 1, 0, 1, 1, 0, 0, 1, 0, 0, 0, 0, 1, 0, 1, 0, 0, 0, 0, 1, 1, 0,\n",
       "         1, 0, 1, 0, 1, 0, 1, 0, 0, 0, 0, 0, 1, 1, 0, 0, 0, 0, 1, 1, 1, 0, 0, 1,\n",
       "         0, 0, 1, 1, 0, 1, 1, 1, 0, 0, 1, 1, 0, 0, 0, 0, 1, 1, 1, 0, 0, 0, 1, 1,\n",
       "         0, 1, 1, 1, 0, 1, 0, 1, 0, 0, 0, 1, 0, 1, 1, 0, 1, 0, 1, 0, 0, 0, 0, 1,\n",
       "         0, 0, 0, 1, 0, 0, 1, 1, 1, 0, 1, 0, 1, 1, 1, 0, 0, 1, 0, 1, 0, 1, 1, 0,\n",
       "         0, 1, 1, 0, 0, 1, 0, 1]))"
      ]
     },
     "execution_count": 28,
     "metadata": {},
     "output_type": "execute_result"
    }
   ],
   "source": [
    "next(iter(train_dataloader))"
   ]
  },
  {
   "cell_type": "code",
   "execution_count": null,
   "metadata": {
    "colab": {
     "base_uri": "https://localhost:8080/"
    },
    "id": "jF9uYHJnDg43",
    "outputId": "90cd9874-ac09-4425-b4ce-0d3f7ae9c2bf"
   },
   "outputs": [
    {
     "data": {
      "text/plain": [
       "233"
      ]
     },
     "execution_count": 29,
     "metadata": {},
     "output_type": "execute_result"
    }
   ],
   "source": [
    "len(train_dataloader)"
   ]
  },
  {
   "cell_type": "code",
   "execution_count": null,
   "metadata": {
    "id": "UIJ9qYcn7oAy"
   },
   "outputs": [],
   "source": [
    "encoded_sentences, labels = next(iter(train_dataloader))"
   ]
  },
  {
   "cell_type": "code",
   "execution_count": null,
   "metadata": {
    "colab": {
     "base_uri": "https://localhost:8080/"
    },
    "id": "c2fkG2kP7rpi",
    "outputId": "8f13ef24-c539-4268-8206-a3ab585b4b73"
   },
   "outputs": [
    {
     "data": {
      "text/plain": [
       "torch.Size([128, 50])"
      ]
     },
     "execution_count": 31,
     "metadata": {},
     "output_type": "execute_result"
    }
   ],
   "source": [
    "encoded_sentences.shape"
   ]
  },
  {
   "cell_type": "code",
   "execution_count": null,
   "metadata": {
    "colab": {
     "base_uri": "https://localhost:8080/"
    },
    "id": "fyuI2D7q8Avw",
    "outputId": "abaa9862-5ba5-4d1d-baa3-ad41a3dd52da"
   },
   "outputs": [
    {
     "data": {
      "text/plain": [
       "torch.Size([128])"
      ]
     },
     "execution_count": 32,
     "metadata": {},
     "output_type": "execute_result"
    }
   ],
   "source": [
    "labels.shape"
   ]
  },
  {
   "cell_type": "markdown",
   "metadata": {
    "id": "Fa6W2VcT9mai"
   },
   "source": [
    "###**Trainer**"
   ]
  },
  {
   "cell_type": "code",
   "execution_count": null,
   "metadata": {
    "id": "wuvVJXtB9qKL"
   },
   "outputs": [],
   "source": [
    "import time\n",
    "\n",
    "def train_epoch(model, optimizer, criterion, train_dataloader, device, epoch=0, log_interval=50):\n",
    "    model.train()\n",
    "    total_acc, total_count = 0, 0\n",
    "    losses = []\n",
    "    start_time = time.time()\n",
    "\n",
    "    for idx, (inputs, labels) in enumerate(train_dataloader):\n",
    "        inputs = inputs.to(device)\n",
    "        labels = labels.to(device)\n",
    "\n",
    "        optimizer.zero_grad()\n",
    "\n",
    "        predictions = model(inputs, device)\n",
    "\n",
    "        # compute loss\n",
    "        loss = criterion(predictions, labels)\n",
    "        losses.append(loss.item())\n",
    "\n",
    "        # backward\n",
    "        loss.backward()\n",
    "        optimizer.step()\n",
    "        total_acc += (predictions.argmax(1) == labels).sum().item()\n",
    "        total_count += labels.size(0)\n",
    "        if idx % log_interval == 0 and idx > 0:\n",
    "            elapsed = time.time() - start_time\n",
    "            print(\n",
    "                \"| epoch {:3d} | {:5d}/{:5d} batches \"\n",
    "                \"| accuracy {:8.3f}\".format(\n",
    "                    epoch, idx, len(train_dataloader), total_acc / total_count\n",
    "                )\n",
    "            )\n",
    "            total_acc, total_count = 0, 0\n",
    "            start_time = time.time()\n",
    "\n",
    "    epoch_acc = total_acc / total_count\n",
    "    epoch_loss = sum(losses) / len(losses)\n",
    "    return epoch_acc, epoch_loss"
   ]
  },
  {
   "cell_type": "code",
   "execution_count": null,
   "metadata": {
    "id": "piuTehfZ9xdx"
   },
   "outputs": [],
   "source": [
    "def evaluate_epoch(model, criterion, valid_dataloader, device):\n",
    "    model.eval()\n",
    "    total_acc, total_count = 0, 0\n",
    "    losses = []\n",
    "\n",
    "    with torch.no_grad():\n",
    "        for idx, (inputs, labels) in enumerate(valid_dataloader):\n",
    "            inputs = inputs.to(device)\n",
    "            labels = labels.to(device)\n",
    "\n",
    "            predictions = model(inputs, device)\n",
    "\n",
    "            loss = criterion(predictions, labels)\n",
    "            losses.append(loss.item())\n",
    "\n",
    "            total_acc += (predictions.argmax(1) == labels).sum().item()\n",
    "            total_count += labels.size(0)\n",
    "\n",
    "    epoch_acc = total_acc / total_count\n",
    "    epoch_loss = sum(losses) / len(losses)\n",
    "    return epoch_acc, epoch_loss"
   ]
  },
  {
   "cell_type": "code",
   "execution_count": null,
   "metadata": {
    "id": "JuqJbVjP92ew"
   },
   "outputs": [],
   "source": [
    "def train(model, model_name, save_model, optimizer, criterion, train_dataloader, valid_dataloader, num_epochs, device):\n",
    "    train_accs, train_losses = [], []\n",
    "    eval_accs, eval_losses = [], []\n",
    "    best_loss_eval = 100\n",
    "    times = []\n",
    "    for epoch in range(1, num_epochs+1):\n",
    "        epoch_start_time = time.time()\n",
    "        # Training\n",
    "        train_acc, train_loss = train_epoch(model, optimizer, criterion, train_dataloader, device, epoch)\n",
    "        train_accs.append(train_acc)\n",
    "        train_losses.append(train_loss)\n",
    "\n",
    "        # Evaluation\n",
    "        eval_acc, eval_loss = evaluate_epoch(model, criterion, valid_dataloader, device)\n",
    "        eval_accs.append(eval_acc)\n",
    "        eval_losses.append(eval_loss)\n",
    "\n",
    "        # Save best model\n",
    "        if eval_loss < best_loss_eval:\n",
    "            torch.save(model.state_dict(), save_model + f'/{model_name}.pt')\n",
    "\n",
    "        times.append(time.time() - epoch_start_time)\n",
    "        # Print loss, acc end epoch\n",
    "        print(\"-\" * 59)\n",
    "        print(\n",
    "            \"| End of epoch {:3d} | Time: {:5.2f}s | Train Accuracy {:8.3f} | Train Loss {:8.3f} \"\n",
    "            \"| Valid Accuracy {:8.3f} | Valid Loss {:8.3f} \".format(\n",
    "                epoch, time.time() - epoch_start_time, train_acc, train_loss, eval_acc, eval_loss\n",
    "            )\n",
    "        )\n",
    "        print(\"-\" * 59)\n",
    "\n",
    "    # Load best model\n",
    "    model.load_state_dict(torch.load(save_model + f'/{model_name}.pt', weights_only=True))\n",
    "    model.eval()\n",
    "    metrics = {\n",
    "        'train_accuracy': train_accs,\n",
    "        'train_loss': train_losses,\n",
    "        'valid_accuracy': eval_accs,\n",
    "        'valid_loss': eval_losses,\n",
    "        'time': times\n",
    "    }\n",
    "    return model, metrics"
   ]
  },
  {
   "cell_type": "code",
   "execution_count": null,
   "metadata": {
    "id": "Im6ctPs995cJ"
   },
   "outputs": [],
   "source": [
    "import matplotlib.pyplot as plt\n",
    "\n",
    "def plot_result(num_epochs, train_accs, eval_accs, train_losses, eval_losses):\n",
    "    epochs = list(range(num_epochs))\n",
    "    fig, axs = plt.subplots(nrows = 1, ncols =2 , figsize = (12,6))\n",
    "    axs[0].plot(epochs, train_accs, label = \"Training\")\n",
    "    axs[0].plot(epochs, eval_accs, label = \"Evaluation\")\n",
    "    axs[1].plot(epochs, train_losses, label = \"Training\")\n",
    "    axs[1].plot(epochs, eval_losses, label = \"Evaluation\")\n",
    "    axs[0].set_xlabel(\"Epochs\")\n",
    "    axs[1].set_xlabel(\"Epochs\")\n",
    "    axs[0].set_ylabel(\"Accuracy\")\n",
    "    axs[1].set_ylabel(\"Loss\")\n",
    "    plt.legend()"
   ]
  },
  {
   "cell_type": "markdown",
   "metadata": {
    "id": "Mk4ie1Wg6H2a"
   },
   "source": [
    "#**RNN**"
   ]
  },
  {
   "cell_type": "markdown",
   "metadata": {
    "id": "HJ-w3VTW9-rh"
   },
   "source": [
    "###**Modeling**"
   ]
  },
  {
   "cell_type": "code",
   "execution_count": null,
   "metadata": {
    "id": "gTpF9kJN-BAL"
   },
   "outputs": [],
   "source": [
    "from torch import nn\n",
    "from torch.nn import functional as F\n",
    "\n",
    "class RNNClassifier(nn.Module):\n",
    "    def __init__(\n",
    "            self, vocab_size=10000, embedding_dim=200,\n",
    "            hidden_size=150, num_classes=2\n",
    "        ):\n",
    "        super(RNNClassifier, self).__init__()\n",
    "        self.hidden_size = hidden_size\n",
    "        self.embedding_dim = embedding_dim\n",
    "        self.embedding_layer = nn.Embedding(\n",
    "            num_embeddings=vocab_size,\n",
    "            embedding_dim=embedding_dim\n",
    "        )\n",
    "        self.rnn = nn.RNN(\n",
    "            input_size=self.embedding_dim,\n",
    "            hidden_size=self.hidden_size,\n",
    "            batch_first=True\n",
    "        )\n",
    "        self.linear = nn.Linear(self.hidden_size, num_classes)\n",
    "\n",
    "    def forward(self, X_batch, device):\n",
    "        embeddings = self.embedding_layer(X_batch)\n",
    "        output, hidden = self.rnn(\n",
    "            embeddings,\n",
    "            torch.randn(1, len(X_batch), self.hidden_size).to(device)\n",
    "        )\n",
    "        output = self.linear(output[: , -1])\n",
    "        return output"
   ]
  },
  {
   "cell_type": "code",
   "execution_count": null,
   "metadata": {
    "id": "Z5Jx9v10BiyK"
   },
   "outputs": [],
   "source": [
    "model = RNNClassifier(vocab_size=10000, num_classes=2)"
   ]
  },
  {
   "cell_type": "code",
   "execution_count": null,
   "metadata": {
    "id": "V9Fg9h-epEqs"
   },
   "outputs": [],
   "source": [
    "device = torch.device('cuda' if torch.cuda.is_available() else 'cpu')\n",
    "model = model.to(device)"
   ]
  },
  {
   "cell_type": "code",
   "execution_count": null,
   "metadata": {
    "id": "XVEBve95BjtM"
   },
   "outputs": [],
   "source": [
    "predictions = model(encoded_sentences.to(device), device)"
   ]
  },
  {
   "cell_type": "code",
   "execution_count": null,
   "metadata": {
    "colab": {
     "base_uri": "https://localhost:8080/"
    },
    "id": "RJEBC-MKBqPk",
    "outputId": "881d6ab9-bc26-445a-bb7c-619398cd4da1"
   },
   "outputs": [
    {
     "data": {
      "text/plain": [
       "torch.Size([128, 2])"
      ]
     },
     "execution_count": 88,
     "metadata": {},
     "output_type": "execute_result"
    }
   ],
   "source": [
    "predictions.shape"
   ]
  },
  {
   "cell_type": "markdown",
   "metadata": {
    "id": "Vf9GW1dpB8PT"
   },
   "source": [
    "###**Training**"
   ]
  },
  {
   "cell_type": "code",
   "execution_count": null,
   "metadata": {
    "colab": {
     "base_uri": "https://localhost:8080/"
    },
    "id": "9yiMR-0nB-ao",
    "outputId": "b2467e9b-5f14-43c2-9546-d5dfa082e7db"
   },
   "outputs": [
    {
     "name": "stdout",
     "output_type": "stream",
     "text": [
      "| epoch   1 |    50/  233 batches | accuracy    0.510\n",
      "| epoch   1 |   100/  233 batches | accuracy    0.508\n",
      "| epoch   1 |   150/  233 batches | accuracy    0.526\n",
      "| epoch   1 |   200/  233 batches | accuracy    0.525\n",
      "-----------------------------------------------------------\n",
      "| End of epoch   1 | Time:  1.27s | Train Accuracy    0.518 | Train Loss    0.700 | Valid Accuracy    0.528 | Valid Loss    0.693 \n",
      "-----------------------------------------------------------\n",
      "| epoch   2 |    50/  233 batches | accuracy    0.554\n",
      "| epoch   2 |   100/  233 batches | accuracy    0.540\n",
      "| epoch   2 |   150/  233 batches | accuracy    0.550\n",
      "| epoch   2 |   200/  233 batches | accuracy    0.560\n",
      "-----------------------------------------------------------\n",
      "| End of epoch   2 | Time:  1.18s | Train Accuracy    0.561 | Train Loss    0.683 | Valid Accuracy    0.548 | Valid Loss    0.685 \n",
      "-----------------------------------------------------------\n",
      "| epoch   3 |    50/  233 batches | accuracy    0.581\n",
      "| epoch   3 |   100/  233 batches | accuracy    0.586\n",
      "| epoch   3 |   150/  233 batches | accuracy    0.632\n",
      "| epoch   3 |   200/  233 batches | accuracy    0.724\n",
      "-----------------------------------------------------------\n",
      "| End of epoch   3 | Time:  1.19s | Train Accuracy    0.732 | Train Loss    0.624 | Valid Accuracy    0.729 | Valid Loss    0.554 \n",
      "-----------------------------------------------------------\n",
      "| epoch   4 |    50/  233 batches | accuracy    0.745\n",
      "| epoch   4 |   100/  233 batches | accuracy    0.753\n",
      "| epoch   4 |   150/  233 batches | accuracy    0.756\n",
      "| epoch   4 |   200/  233 batches | accuracy    0.759\n",
      "-----------------------------------------------------------\n",
      "| End of epoch   4 | Time:  1.41s | Train Accuracy    0.769 | Train Loss    0.526 | Valid Accuracy    0.755 | Valid Loss    0.527 \n",
      "-----------------------------------------------------------\n",
      "| epoch   5 |    50/  233 batches | accuracy    0.765\n",
      "| epoch   5 |   100/  233 batches | accuracy    0.755\n",
      "| epoch   5 |   150/  233 batches | accuracy    0.676\n",
      "| epoch   5 |   200/  233 batches | accuracy    0.689\n",
      "-----------------------------------------------------------\n",
      "| End of epoch   5 | Time:  1.57s | Train Accuracy    0.670 | Train Loss    0.555 | Valid Accuracy    0.688 | Valid Loss    0.574 \n",
      "-----------------------------------------------------------\n",
      "| epoch   6 |    50/  233 batches | accuracy    0.700\n",
      "| epoch   6 |   100/  233 batches | accuracy    0.698\n",
      "| epoch   6 |   150/  233 batches | accuracy    0.706\n",
      "| epoch   6 |   200/  233 batches | accuracy    0.714\n",
      "-----------------------------------------------------------\n",
      "| End of epoch   6 | Time:  1.23s | Train Accuracy    0.713 | Train Loss    0.549 | Valid Accuracy    0.707 | Valid Loss    0.557 \n",
      "-----------------------------------------------------------\n",
      "| epoch   7 |    50/  233 batches | accuracy    0.728\n",
      "| epoch   7 |   100/  233 batches | accuracy    0.774\n",
      "| epoch   7 |   150/  233 batches | accuracy    0.776\n",
      "| epoch   7 |   200/  233 batches | accuracy    0.765\n",
      "-----------------------------------------------------------\n",
      "| End of epoch   7 | Time:  1.39s | Train Accuracy    0.780 | Train Loss    0.509 | Valid Accuracy    0.768 | Valid Loss    0.516 \n",
      "-----------------------------------------------------------\n",
      "| epoch   8 |    50/  233 batches | accuracy    0.797\n",
      "| epoch   8 |   100/  233 batches | accuracy    0.785\n",
      "| epoch   8 |   150/  233 batches | accuracy    0.783\n",
      "| epoch   8 |   200/  233 batches | accuracy    0.788\n",
      "-----------------------------------------------------------\n",
      "| End of epoch   8 | Time:  1.63s | Train Accuracy    0.794 | Train Loss    0.479 | Valid Accuracy    0.773 | Valid Loss    0.508 \n",
      "-----------------------------------------------------------\n",
      "| epoch   9 |    50/  233 batches | accuracy    0.796\n",
      "| epoch   9 |   100/  233 batches | accuracy    0.801\n",
      "| epoch   9 |   150/  233 batches | accuracy    0.797\n",
      "| epoch   9 |   200/  233 batches | accuracy    0.792\n",
      "-----------------------------------------------------------\n",
      "| End of epoch   9 | Time:  1.17s | Train Accuracy    0.797 | Train Loss    0.465 | Valid Accuracy    0.775 | Valid Loss    0.491 \n",
      "-----------------------------------------------------------\n",
      "| epoch  10 |    50/  233 batches | accuracy    0.802\n",
      "| epoch  10 |   100/  233 batches | accuracy    0.796\n",
      "| epoch  10 |   150/  233 batches | accuracy    0.797\n",
      "| epoch  10 |   200/  233 batches | accuracy    0.810\n",
      "-----------------------------------------------------------\n",
      "| End of epoch  10 | Time:  1.18s | Train Accuracy    0.807 | Train Loss    0.456 | Valid Accuracy    0.771 | Valid Loss    0.517 \n",
      "-----------------------------------------------------------\n",
      "| epoch  11 |    50/  233 batches | accuracy    0.805\n",
      "| epoch  11 |   100/  233 batches | accuracy    0.793\n",
      "| epoch  11 |   150/  233 batches | accuracy    0.805\n",
      "| epoch  11 |   200/  233 batches | accuracy    0.802\n",
      "-----------------------------------------------------------\n",
      "| End of epoch  11 | Time:  1.19s | Train Accuracy    0.770 | Train Loss    0.466 | Valid Accuracy    0.772 | Valid Loss    0.515 \n",
      "-----------------------------------------------------------\n",
      "| epoch  12 |    50/  233 batches | accuracy    0.808\n",
      "| epoch  12 |   100/  233 batches | accuracy    0.802\n",
      "| epoch  12 |   150/  233 batches | accuracy    0.806\n",
      "| epoch  12 |   200/  233 batches | accuracy    0.798\n",
      "-----------------------------------------------------------\n",
      "| End of epoch  12 | Time:  1.20s | Train Accuracy    0.804 | Train Loss    0.456 | Valid Accuracy    0.785 | Valid Loss    0.488 \n",
      "-----------------------------------------------------------\n",
      "| epoch  13 |    50/  233 batches | accuracy    0.821\n",
      "| epoch  13 |   100/  233 batches | accuracy    0.817\n",
      "| epoch  13 |   150/  233 batches | accuracy    0.809\n",
      "| epoch  13 |   200/  233 batches | accuracy    0.809\n",
      "-----------------------------------------------------------\n",
      "| End of epoch  13 | Time:  1.19s | Train Accuracy    0.825 | Train Loss    0.438 | Valid Accuracy    0.791 | Valid Loss    0.481 \n",
      "-----------------------------------------------------------\n",
      "| epoch  14 |    50/  233 batches | accuracy    0.815\n",
      "| epoch  14 |   100/  233 batches | accuracy    0.824\n",
      "| epoch  14 |   150/  233 batches | accuracy    0.816\n",
      "| epoch  14 |   200/  233 batches | accuracy    0.797\n",
      "-----------------------------------------------------------\n",
      "| End of epoch  14 | Time:  1.56s | Train Accuracy    0.774 | Train Loss    0.450 | Valid Accuracy    0.762 | Valid Loss    0.525 \n",
      "-----------------------------------------------------------\n",
      "| epoch  15 |    50/  233 batches | accuracy    0.802\n",
      "| epoch  15 |   100/  233 batches | accuracy    0.811\n",
      "| epoch  15 |   150/  233 batches | accuracy    0.800\n",
      "| epoch  15 |   200/  233 batches | accuracy    0.799\n",
      "-----------------------------------------------------------\n",
      "| End of epoch  15 | Time:  1.51s | Train Accuracy    0.696 | Train Loss    0.484 | Valid Accuracy    0.695 | Valid Loss    0.584 \n",
      "-----------------------------------------------------------\n",
      "| epoch  16 |    50/  233 batches | accuracy    0.725\n",
      "| epoch  16 |   100/  233 batches | accuracy    0.736\n",
      "| epoch  16 |   150/  233 batches | accuracy    0.745\n",
      "| epoch  16 |   200/  233 batches | accuracy    0.794\n",
      "-----------------------------------------------------------\n",
      "| End of epoch  16 | Time:  1.18s | Train Accuracy    0.807 | Train Loss    0.497 | Valid Accuracy    0.777 | Valid Loss    0.497 \n",
      "-----------------------------------------------------------\n",
      "| epoch  17 |    50/  233 batches | accuracy    0.809\n",
      "| epoch  17 |   100/  233 batches | accuracy    0.809\n",
      "| epoch  17 |   150/  233 batches | accuracy    0.808\n",
      "| epoch  17 |   200/  233 batches | accuracy    0.813\n",
      "-----------------------------------------------------------\n",
      "| End of epoch  17 | Time:  1.19s | Train Accuracy    0.810 | Train Loss    0.439 | Valid Accuracy    0.782 | Valid Loss    0.491 \n",
      "-----------------------------------------------------------\n",
      "| epoch  18 |    50/  233 batches | accuracy    0.815\n",
      "| epoch  18 |   100/  233 batches | accuracy    0.778\n",
      "| epoch  18 |   150/  233 batches | accuracy    0.810\n",
      "| epoch  18 |   200/  233 batches | accuracy    0.810\n",
      "-----------------------------------------------------------\n",
      "| End of epoch  18 | Time:  1.18s | Train Accuracy    0.810 | Train Loss    0.448 | Valid Accuracy    0.782 | Valid Loss    0.490 \n",
      "-----------------------------------------------------------\n",
      "| epoch  19 |    50/  233 batches | accuracy    0.818\n",
      "| epoch  19 |   100/  233 batches | accuracy    0.784\n",
      "| epoch  19 |   150/  233 batches | accuracy    0.732\n",
      "| epoch  19 |   200/  233 batches | accuracy    0.762\n",
      "-----------------------------------------------------------\n",
      "| End of epoch  19 | Time:  1.18s | Train Accuracy    0.785 | Train Loss    0.473 | Valid Accuracy    0.777 | Valid Loss    0.501 \n",
      "-----------------------------------------------------------\n",
      "| epoch  20 |    50/  233 batches | accuracy    0.804\n",
      "| epoch  20 |   100/  233 batches | accuracy    0.817\n",
      "| epoch  20 |   150/  233 batches | accuracy    0.819\n",
      "| epoch  20 |   200/  233 batches | accuracy    0.814\n",
      "-----------------------------------------------------------\n",
      "| End of epoch  20 | Time:  1.16s | Train Accuracy    0.817 | Train Loss    0.433 | Valid Accuracy    0.785 | Valid Loss    0.484 \n",
      "-----------------------------------------------------------\n",
      "| epoch  21 |    50/  233 batches | accuracy    0.829\n",
      "| epoch  21 |   100/  233 batches | accuracy    0.827\n",
      "| epoch  21 |   150/  233 batches | accuracy    0.729\n",
      "| epoch  21 |   200/  233 batches | accuracy    0.708\n",
      "-----------------------------------------------------------\n",
      "| End of epoch  21 | Time:  1.16s | Train Accuracy    0.719 | Train Loss    0.485 | Valid Accuracy    0.703 | Valid Loss    0.551 \n",
      "-----------------------------------------------------------\n",
      "| epoch  22 |    50/  233 batches | accuracy    0.736\n",
      "| epoch  22 |   100/  233 batches | accuracy    0.743\n",
      "| epoch  22 |   150/  233 batches | accuracy    0.734\n",
      "| epoch  22 |   200/  233 batches | accuracy    0.735\n",
      "-----------------------------------------------------------\n",
      "| End of epoch  22 | Time:  1.18s | Train Accuracy    0.739 | Train Loss    0.497 | Valid Accuracy    0.713 | Valid Loss    0.540 \n",
      "-----------------------------------------------------------\n",
      "| epoch  23 |    50/  233 batches | accuracy    0.748\n",
      "| epoch  23 |   100/  233 batches | accuracy    0.749\n",
      "| epoch  23 |   150/  233 batches | accuracy    0.747\n",
      "| epoch  23 |   200/  233 batches | accuracy    0.736\n",
      "-----------------------------------------------------------\n",
      "| End of epoch  23 | Time:  1.21s | Train Accuracy    0.748 | Train Loss    0.485 | Valid Accuracy    0.720 | Valid Loss    0.535 \n",
      "-----------------------------------------------------------\n",
      "| epoch  24 |    50/  233 batches | accuracy    0.738\n",
      "| epoch  24 |   100/  233 batches | accuracy    0.757\n",
      "| epoch  24 |   150/  233 batches | accuracy    0.751\n",
      "| epoch  24 |   200/  233 batches | accuracy    0.760\n",
      "-----------------------------------------------------------\n",
      "| End of epoch  24 | Time:  1.43s | Train Accuracy    0.758 | Train Loss    0.475 | Valid Accuracy    0.726 | Valid Loss    0.529 \n",
      "-----------------------------------------------------------\n",
      "| epoch  25 |    50/  233 batches | accuracy    0.766\n",
      "| epoch  25 |   100/  233 batches | accuracy    0.763\n",
      "| epoch  25 |   150/  233 batches | accuracy    0.770\n",
      "| epoch  25 |   200/  233 batches | accuracy    0.759\n",
      "-----------------------------------------------------------\n",
      "| End of epoch  25 | Time:  1.56s | Train Accuracy    0.781 | Train Loss    0.464 | Valid Accuracy    0.750 | Valid Loss    0.514 \n",
      "-----------------------------------------------------------\n",
      "| epoch  26 |    50/  233 batches | accuracy    0.802\n",
      "| epoch  26 |   100/  233 batches | accuracy    0.813\n",
      "| epoch  26 |   150/  233 batches | accuracy    0.817\n",
      "| epoch  26 |   200/  233 batches | accuracy    0.830\n",
      "-----------------------------------------------------------\n",
      "| End of epoch  26 | Time:  1.21s | Train Accuracy    0.837 | Train Loss    0.415 | Valid Accuracy    0.793 | Valid Loss    0.475 \n",
      "-----------------------------------------------------------\n",
      "| epoch  27 |    50/  233 batches | accuracy    0.838\n",
      "| epoch  27 |   100/  233 batches | accuracy    0.832\n",
      "| epoch  27 |   150/  233 batches | accuracy    0.835\n",
      "| epoch  27 |   200/  233 batches | accuracy    0.840\n",
      "-----------------------------------------------------------\n",
      "| End of epoch  27 | Time:  1.20s | Train Accuracy    0.831 | Train Loss    0.397 | Valid Accuracy    0.796 | Valid Loss    0.469 \n",
      "-----------------------------------------------------------\n",
      "| epoch  28 |    50/  233 batches | accuracy    0.843\n",
      "| epoch  28 |   100/  233 batches | accuracy    0.850\n",
      "| epoch  28 |   150/  233 batches | accuracy    0.841\n",
      "| epoch  28 |   200/  233 batches | accuracy    0.840\n",
      "-----------------------------------------------------------\n",
      "| End of epoch  28 | Time:  1.17s | Train Accuracy    0.837 | Train Loss    0.381 | Valid Accuracy    0.800 | Valid Loss    0.468 \n",
      "-----------------------------------------------------------\n",
      "| epoch  29 |    50/  233 batches | accuracy    0.838\n",
      "| epoch  29 |   100/  233 batches | accuracy    0.845\n",
      "| epoch  29 |   150/  233 batches | accuracy    0.840\n",
      "| epoch  29 |   200/  233 batches | accuracy    0.845\n",
      "-----------------------------------------------------------\n",
      "| End of epoch  29 | Time:  1.16s | Train Accuracy    0.850 | Train Loss    0.374 | Valid Accuracy    0.805 | Valid Loss    0.454 \n",
      "-----------------------------------------------------------\n",
      "| epoch  30 |    50/  233 batches | accuracy    0.853\n",
      "| epoch  30 |   100/  233 batches | accuracy    0.843\n",
      "| epoch  30 |   150/  233 batches | accuracy    0.843\n",
      "| epoch  30 |   200/  233 batches | accuracy    0.851\n",
      "-----------------------------------------------------------\n",
      "| End of epoch  30 | Time:  1.18s | Train Accuracy    0.846 | Train Loss    0.367 | Valid Accuracy    0.804 | Valid Loss    0.452 \n",
      "-----------------------------------------------------------\n",
      "| epoch  31 |    50/  233 batches | accuracy    0.855\n",
      "| epoch  31 |   100/  233 batches | accuracy    0.857\n",
      "| epoch  31 |   150/  233 batches | accuracy    0.849\n",
      "| epoch  31 |   200/  233 batches | accuracy    0.841\n",
      "-----------------------------------------------------------\n",
      "| End of epoch  31 | Time:  1.19s | Train Accuracy    0.850 | Train Loss    0.363 | Valid Accuracy    0.809 | Valid Loss    0.444 \n",
      "-----------------------------------------------------------\n",
      "| epoch  32 |    50/  233 batches | accuracy    0.859\n",
      "| epoch  32 |   100/  233 batches | accuracy    0.843\n",
      "| epoch  32 |   150/  233 batches | accuracy    0.858\n",
      "| epoch  32 |   200/  233 batches | accuracy    0.860\n",
      "-----------------------------------------------------------\n",
      "| End of epoch  32 | Time:  1.19s | Train Accuracy    0.852 | Train Loss    0.356 | Valid Accuracy    0.799 | Valid Loss    0.470 \n",
      "-----------------------------------------------------------\n",
      "| epoch  33 |    50/  233 batches | accuracy    0.846\n",
      "| epoch  33 |   100/  233 batches | accuracy    0.858\n",
      "| epoch  33 |   150/  233 batches | accuracy    0.858\n",
      "| epoch  33 |   200/  233 batches | accuracy    0.856\n",
      "-----------------------------------------------------------\n",
      "| End of epoch  33 | Time:  1.17s | Train Accuracy    0.865 | Train Loss    0.353 | Valid Accuracy    0.804 | Valid Loss    0.449 \n",
      "-----------------------------------------------------------\n",
      "| epoch  34 |    50/  233 batches | accuracy    0.860\n",
      "| epoch  34 |   100/  233 batches | accuracy    0.864\n",
      "| epoch  34 |   150/  233 batches | accuracy    0.854\n",
      "| epoch  34 |   200/  233 batches | accuracy    0.860\n",
      "-----------------------------------------------------------\n",
      "| End of epoch  34 | Time:  1.40s | Train Accuracy    0.854 | Train Loss    0.346 | Valid Accuracy    0.809 | Valid Loss    0.442 \n",
      "-----------------------------------------------------------\n",
      "| epoch  35 |    50/  233 batches | accuracy    0.863\n",
      "| epoch  35 |   100/  233 batches | accuracy    0.860\n",
      "| epoch  35 |   150/  233 batches | accuracy    0.863\n",
      "| epoch  35 |   200/  233 batches | accuracy    0.860\n",
      "-----------------------------------------------------------\n",
      "| End of epoch  35 | Time:  1.55s | Train Accuracy    0.852 | Train Loss    0.341 | Valid Accuracy    0.811 | Valid Loss    0.442 \n",
      "-----------------------------------------------------------\n",
      "| epoch  36 |    50/  233 batches | accuracy    0.866\n",
      "| epoch  36 |   100/  233 batches | accuracy    0.868\n",
      "| epoch  36 |   150/  233 batches | accuracy    0.866\n",
      "| epoch  36 |   200/  233 batches | accuracy    0.858\n",
      "-----------------------------------------------------------\n",
      "| End of epoch  36 | Time:  1.49s | Train Accuracy    0.863 | Train Loss    0.337 | Valid Accuracy    0.812 | Valid Loss    0.445 \n",
      "-----------------------------------------------------------\n",
      "| epoch  37 |    50/  233 batches | accuracy    0.866\n",
      "| epoch  37 |   100/  233 batches | accuracy    0.865\n",
      "| epoch  37 |   150/  233 batches | accuracy    0.864\n",
      "| epoch  37 |   200/  233 batches | accuracy    0.864\n",
      "-----------------------------------------------------------\n",
      "| End of epoch  37 | Time:  1.63s | Train Accuracy    0.866 | Train Loss    0.332 | Valid Accuracy    0.815 | Valid Loss    0.450 \n",
      "-----------------------------------------------------------\n",
      "| epoch  38 |    50/  233 batches | accuracy    0.861\n",
      "| epoch  38 |   100/  233 batches | accuracy    0.866\n",
      "| epoch  38 |   150/  233 batches | accuracy    0.864\n",
      "| epoch  38 |   200/  233 batches | accuracy    0.870\n",
      "-----------------------------------------------------------\n",
      "| End of epoch  38 | Time:  1.19s | Train Accuracy    0.865 | Train Loss    0.328 | Valid Accuracy    0.812 | Valid Loss    0.444 \n",
      "-----------------------------------------------------------\n",
      "| epoch  39 |    50/  233 batches | accuracy    0.873\n",
      "| epoch  39 |   100/  233 batches | accuracy    0.862\n",
      "| epoch  39 |   150/  233 batches | accuracy    0.865\n",
      "| epoch  39 |   200/  233 batches | accuracy    0.861\n",
      "-----------------------------------------------------------\n",
      "| End of epoch  39 | Time:  1.18s | Train Accuracy    0.865 | Train Loss    0.324 | Valid Accuracy    0.813 | Valid Loss    0.439 \n",
      "-----------------------------------------------------------\n",
      "| epoch  40 |    50/  233 batches | accuracy    0.867\n",
      "| epoch  40 |   100/  233 batches | accuracy    0.875\n",
      "| epoch  40 |   150/  233 batches | accuracy    0.871\n",
      "| epoch  40 |   200/  233 batches | accuracy    0.868\n",
      "-----------------------------------------------------------\n",
      "| End of epoch  40 | Time:  1.16s | Train Accuracy    0.866 | Train Loss    0.321 | Valid Accuracy    0.809 | Valid Loss    0.442 \n",
      "-----------------------------------------------------------\n",
      "| epoch  41 |    50/  233 batches | accuracy    0.873\n",
      "| epoch  41 |   100/  233 batches | accuracy    0.871\n",
      "| epoch  41 |   150/  233 batches | accuracy    0.876\n",
      "| epoch  41 |   200/  233 batches | accuracy    0.871\n",
      "-----------------------------------------------------------\n",
      "| End of epoch  41 | Time:  1.18s | Train Accuracy    0.863 | Train Loss    0.314 | Valid Accuracy    0.813 | Valid Loss    0.445 \n",
      "-----------------------------------------------------------\n",
      "| epoch  42 |    50/  233 batches | accuracy    0.873\n",
      "| epoch  42 |   100/  233 batches | accuracy    0.883\n",
      "| epoch  42 |   150/  233 batches | accuracy    0.877\n",
      "| epoch  42 |   200/  233 batches | accuracy    0.880\n",
      "-----------------------------------------------------------\n",
      "| End of epoch  42 | Time:  1.16s | Train Accuracy    0.879 | Train Loss    0.306 | Valid Accuracy    0.813 | Valid Loss    0.451 \n",
      "-----------------------------------------------------------\n",
      "| epoch  43 |    50/  233 batches | accuracy    0.871\n",
      "| epoch  43 |   100/  233 batches | accuracy    0.871\n",
      "| epoch  43 |   150/  233 batches | accuracy    0.882\n",
      "| epoch  43 |   200/  233 batches | accuracy    0.879\n",
      "-----------------------------------------------------------\n",
      "| End of epoch  43 | Time:  1.17s | Train Accuracy    0.885 | Train Loss    0.309 | Valid Accuracy    0.813 | Valid Loss    0.442 \n",
      "-----------------------------------------------------------\n",
      "| epoch  44 |    50/  233 batches | accuracy    0.888\n",
      "| epoch  44 |   100/  233 batches | accuracy    0.878\n",
      "| epoch  44 |   150/  233 batches | accuracy    0.878\n",
      "| epoch  44 |   200/  233 batches | accuracy    0.876\n",
      "-----------------------------------------------------------\n",
      "| End of epoch  44 | Time:  1.52s | Train Accuracy    0.883 | Train Loss    0.300 | Valid Accuracy    0.821 | Valid Loss    0.437 \n",
      "-----------------------------------------------------------\n",
      "| epoch  45 |    50/  233 batches | accuracy    0.883\n",
      "| epoch  45 |   100/  233 batches | accuracy    0.889\n",
      "| epoch  45 |   150/  233 batches | accuracy    0.884\n",
      "| epoch  45 |   200/  233 batches | accuracy    0.874\n",
      "-----------------------------------------------------------\n",
      "| End of epoch  45 | Time:  1.48s | Train Accuracy    0.884 | Train Loss    0.295 | Valid Accuracy    0.815 | Valid Loss    0.442 \n",
      "-----------------------------------------------------------\n",
      "| epoch  46 |    50/  233 batches | accuracy    0.893\n",
      "| epoch  46 |   100/  233 batches | accuracy    0.881\n",
      "| epoch  46 |   150/  233 batches | accuracy    0.882\n",
      "| epoch  46 |   200/  233 batches | accuracy    0.886\n",
      "-----------------------------------------------------------\n",
      "| End of epoch  46 | Time:  1.17s | Train Accuracy    0.880 | Train Loss    0.291 | Valid Accuracy    0.816 | Valid Loss    0.455 \n",
      "-----------------------------------------------------------\n",
      "| epoch  47 |    50/  233 batches | accuracy    0.884\n",
      "| epoch  47 |   100/  233 batches | accuracy    0.884\n",
      "| epoch  47 |   150/  233 batches | accuracy    0.886\n",
      "| epoch  47 |   200/  233 batches | accuracy    0.882\n",
      "-----------------------------------------------------------\n",
      "| End of epoch  47 | Time:  1.19s | Train Accuracy    0.890 | Train Loss    0.287 | Valid Accuracy    0.817 | Valid Loss    0.445 \n",
      "-----------------------------------------------------------\n",
      "| epoch  48 |    50/  233 batches | accuracy    0.890\n",
      "| epoch  48 |   100/  233 batches | accuracy    0.887\n",
      "| epoch  48 |   150/  233 batches | accuracy    0.890\n",
      "| epoch  48 |   200/  233 batches | accuracy    0.892\n",
      "-----------------------------------------------------------\n",
      "| End of epoch  48 | Time:  1.16s | Train Accuracy    0.885 | Train Loss    0.282 | Valid Accuracy    0.816 | Valid Loss    0.439 \n",
      "-----------------------------------------------------------\n",
      "| epoch  49 |    50/  233 batches | accuracy    0.895\n",
      "| epoch  49 |   100/  233 batches | accuracy    0.895\n",
      "| epoch  49 |   150/  233 batches | accuracy    0.890\n",
      "| epoch  49 |   200/  233 batches | accuracy    0.882\n",
      "-----------------------------------------------------------\n",
      "| End of epoch  49 | Time:  1.15s | Train Accuracy    0.887 | Train Loss    0.276 | Valid Accuracy    0.814 | Valid Loss    0.440 \n",
      "-----------------------------------------------------------\n",
      "| epoch  50 |    50/  233 batches | accuracy    0.894\n",
      "| epoch  50 |   100/  233 batches | accuracy    0.892\n",
      "| epoch  50 |   150/  233 batches | accuracy    0.891\n",
      "| epoch  50 |   200/  233 batches | accuracy    0.891\n",
      "-----------------------------------------------------------\n",
      "| End of epoch  50 | Time:  1.19s | Train Accuracy    0.900 | Train Loss    0.275 | Valid Accuracy    0.815 | Valid Loss    0.459 \n",
      "-----------------------------------------------------------\n"
     ]
    }
   ],
   "source": [
    "import torch.optim as optim\n",
    "\n",
    "device = torch.device('cuda' if torch.cuda.is_available() else 'cpu')\n",
    "\n",
    "model = RNNClassifier(vocab_size=10000, num_classes=2)\n",
    "model.to(device)\n",
    "\n",
    "criterion = torch.nn.CrossEntropyLoss()\n",
    "optimizer = optim.Adam(model.parameters(), lr=0.0001)\n",
    "\n",
    "num_epochs = 50\n",
    "save_model = './model'\n",
    "os.makedirs(save_model, exist_ok = True)\n",
    "model_name = 'model'\n",
    "\n",
    "model, metrics = train(\n",
    "    model, model_name, save_model, optimizer, criterion, train_dataloader, valid_dataloader, num_epochs, device\n",
    ")"
   ]
  },
  {
   "cell_type": "code",
   "execution_count": null,
   "metadata": {
    "colab": {
     "base_uri": "https://localhost:8080/",
     "height": 540
    },
    "id": "ta6k90oHIvOR",
    "outputId": "92b0138c-e8f4-4839-b922-733f6323cedc"
   },
   "outputs": [
    {
     "data": {
      "image/png": "[encoded data removed]",
      "text/plain": [
       "<Figure size 1200x600 with 2 Axes>"
      ]
     },
     "metadata": {},
     "output_type": "display_data"
    }
   ],
   "source": [
    "plot_result(\n",
    "    num_epochs,\n",
    "    metrics[\"train_accuracy\"],\n",
    "    metrics[\"valid_accuracy\"],\n",
    "    metrics[\"train_loss\"],\n",
    "    metrics[\"valid_loss\"]\n",
    ")"
   ]
  },
  {
   "cell_type": "code",
   "execution_count": null,
   "metadata": {
    "colab": {
     "base_uri": "https://localhost:8080/"
    },
    "id": "ypREQ2FiJE1x",
    "outputId": "411970ce-cd44-4b79-997b-093eb3f6abed"
   },
   "outputs": [
    {
     "data": {
      "text/plain": [
       "(0.8201, 0.45171911693826505)"
      ]
     },
     "execution_count": 93,
     "metadata": {},
     "output_type": "execute_result"
    }
   ],
   "source": [
    "test_acc, test_loss = evaluate_epoch(model, criterion, test_dataloader, device)\n",
    "test_acc, test_loss"
   ]
  },
  {
   "cell_type": "code",
   "execution_count": null,
   "metadata": {
    "id": "Ev3Q7PMXlTQH"
   },
   "outputs": [],
   "source": [
    "def inference(sentence, vocabulary, model, device):\n",
    "    sentence = preprocess_text(sentence)\n",
    "    encoded_sentence = vocabulary(tokenizer(sentence))\n",
    "    encoded_sentence = torch.tensor([encoded_sentence])\n",
    "    encoded_sentence = encoded_sentence.to(device)\n",
    "\n",
    "    with torch.no_grad():\n",
    "        predictions = model(encoded_sentence, device)\n",
    "    preds = nn.Softmax(dim=1)(predictions)\n",
    "    p_max, yhat = torch.max(preds.data, 1)\n",
    "\n",
    "    return round(p_max.item(), 2)*100, yhat.item()"
   ]
  },
  {
   "cell_type": "code",
   "execution_count": null,
   "metadata": {
    "colab": {
     "base_uri": "https://localhost:8080/"
    },
    "id": "4IjGqQA5n0ar",
    "outputId": "5b141666-157e-4bad-de1e-073020ac267d"
   },
   "outputs": [
    {
     "data": {
      "text/plain": [
       "(88.0, 0)"
      ]
     },
     "execution_count": 114,
     "metadata": {},
     "output_type": "execute_result"
    }
   ],
   "source": [
    "inference(sentence='quán ăn dở quá', vocabulary=vocabulary, model=model, device=device)"
   ]
  }
 ],
 "metadata": {
  "accelerator": "GPU",
  "colab": {
   "gpuType": "T4",
   "provenance": [],
   "toc_visible": true
  },
  "kernelspec": {
   "display_name": "Python 3 (ipykernel)",
   "language": "python",
   "name": "python3"
  },
  "language_info": {
   "codemirror_mode": {
    "name": "ipython",
    "version": 3
   },
   "file_extension": ".py",
   "mimetype": "text/x-python",
   "name": "python",
   "nbconvert_exporter": "python",
   "pygments_lexer": "ipython3",
   "version": "3.11.11"
  }
 },
 "nbformat": 4,
 "nbformat_minor": 4
}
